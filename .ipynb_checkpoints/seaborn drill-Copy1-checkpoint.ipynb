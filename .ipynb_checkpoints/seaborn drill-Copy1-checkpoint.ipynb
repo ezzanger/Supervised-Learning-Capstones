{
 "cells": [
  {
   "cell_type": "code",
   "execution_count": 3,
   "metadata": {},
   "outputs": [
    {
     "name": "stdout",
     "output_type": "stream",
     "text": [
      "Index(['survived', 'pclass', 'sex', 'age', 'sibsp', 'parch', 'fare',\n",
      "       'embarked', 'class', 'who', 'adult_male', 'deck', 'embark_town',\n",
      "       'alive', 'alone'],\n",
      "      dtype='object')\n"
     ]
    }
   ],
   "source": [
    "import numpy as np\n",
    "import pandas as pd\n",
    "import matplotlib.pyplot as plt\n",
    "import seaborn as sns\n",
    "%matplotlib inline\n",
    "import xlrd\n",
    "Titanic = pd.read_csv('c://Users/ezzan/Downloads/python_drills/titanic.csv')\n",
    "\n",
    "print(Titanic.columns)\n"
   ]
  },
  {
   "cell_type": "markdown",
   "metadata": {},
   "source": [
    "# Tips by Smokers (and by gender)\n"
   ]
  },
  {
   "cell_type": "code",
   "execution_count": 4,
   "metadata": {},
   "outputs": [
    {
     "data": {
      "image/png": "[encoded data removed]",
      "text/plain": [
       "<Figure size 432x288 with 1 Axes>"
      ]
     },
     "metadata": {},
     "output_type": "display_data"
    }
   ],
   "source": [
    "\n",
    "\n",
    "# Creating variables for each of the four conditions to graph using the basic\n",
    "# matplotlib functionality.\n",
    "men = Titanic.loc[(Titanic['who']=='man')&(Titanic['alive']=='yes'),'fare']\n",
    "women = Titanic.loc[(Titanic['who']=='woman')&(Titanic['alive']=='yes'),'fare']\n",
    "child= Titanic.loc[(Titanic['who']=='child')&(Titanic['alive']=='yes'),'fare']\n",
    "men_died = Titanic.loc[(Titanic['who']=='man')&(Titanic['alive']=='no'),'fare']\n",
    "women_died = Titanic.loc[(Titanic['who']=='woman')&(Titanic['alive']=='no'),'fare']\n",
    "child_died= Titanic.loc[(Titanic['who']=='child')&(Titanic['alive']=='no'),'fare']\n",
    "# Making overlapping histograms.\n",
    "plt.hist(men, color='red',  alpha=.5,label='Men Survivor Fare')  # alpha just controls the opacity\n",
    "plt.hist(women, color='blue', alpha=.5,label='Women Survivor Fare')\n",
    "plt.hist(child, color='green', alpha=.5,label='Child Survivor Fare')  \n",
    "plt.hist(men_died, color='yellow', alpha=.5,label='Men Perished Fare')\n",
    "plt.hist(women_died, color='orange', alpha=.5,label='Women Perished Fare')\n",
    "plt.hist(child_died, color='purple', alpha=.5,label='Child Perished  Fare')  \n",
    "plt.xlabel('Titanic Members Fare')\n",
    "plt.legend(loc='upper right')\n",
    "plt.title('Titanic Members Perished/Survived by Fare')\n",
    "plt.show()\n",
    "\n"
   ]
  },
  {
   "cell_type": "code",
   "execution_count": null,
   "metadata": {},
   "outputs": [],
   "source": [
    "\n",
    "sns.set(style=\"ticks\") \n",
    "#heading\n",
    "g = sns.FacetGrid(Titanic, row=\"who\", col=\"alive\")\n",
    "g.map(plt.hist, \"fare\", color=\"red\",  lw=0)\n",
    "plt.subplots_adjust(top=0.9)\n",
    "# Making a more informative axis name.\n",
    "g.set_axis_labels('Fares in USD')\n",
    "plt.suptitle('Plot 2: Boat Fare by Gender and Status')\n",
    "# Removing excess lines around the plot.\n",
    "sns.despine(trim=True)\n",
    "plt.show()\n"
   ]
  },
  {
   "cell_type": "code",
   "execution_count": null,
   "metadata": {},
   "outputs": [],
   "source": [
    "\n",
    "ax = sns.boxplot(x='alive',y='fare',hue='who',data=Titanic)  \n",
    "plt.title('Plot 3: Fare by Gender and Alived/Perished')\n",
    "sns.despine(offset=10, trim=True)\n",
    "ax.set(xlabel='', ylabel='Fare')\n",
    "\n",
    "plt.show()"
   ]
  },
  {
   "cell_type": "code",
   "execution_count": null,
   "metadata": {},
   "outputs": [],
   "source": [
    "Alive = (Titanic['alive']== 'yes')\n",
    "Dead = (Titanic['alive']== 'no')\n",
    "\n",
    "plt.plot(Alive, Titanic['fare'], label= \"Survivors Fare\")\n",
    "plt.plot(Dead, Titanic['fare'], label= \"Perished Fare\")\n",
    "plt.show()\n"
   ]
  },
  {
   "cell_type": "code",
   "execution_count": null,
   "metadata": {},
   "outputs": [],
   "source": [
    "Alive.head()"
   ]
  },
  {
   "cell_type": "markdown",
   "metadata": {},
   "source": [
    "# Fare based on Class\n",
    "\n"
   ]
  },
  {
   "cell_type": "code",
   "execution_count": null,
   "metadata": {},
   "outputs": [],
   "source": [
    "\n",
    "sns.set(style=\"darkgrid\")\n",
    "\n",
    "g = sns.factorplot(x=\"pclass\", y=\"fare\", hue=\"alive\", data=Titanic,\n",
    "                   size=6, kind=\"bar\", palette=\"pastel\", ci=95)\n",
    "g.despine(left=True)\n",
    "g.set_ylabels(\"Fare\")\n",
    "g.set_xlabels(\"\")\n",
    "plt.title('Barplot: Fare by CLass')\n",
    "plt.show()\n",
    "\n",
    "\n"
   ]
  },
  {
   "cell_type": "code",
   "execution_count": null,
   "metadata": {},
   "outputs": [],
   "source": [
    "g = sns.lmplot(y='fare', \n",
    "               x='pclass', \n",
    "               data= Titanic,\n",
    "               fit_reg=True, \n",
    "               scatter_kws={'alpha':0.4}) \n",
    "g.set_ylabels(\"Fare\")\n",
    "g.set_xlabels(\"Class Number\")\n",
    "plt.title('Scatterplot: Fare by Class Number')\n",
    "plt.show()"
   ]
  },
  {
   "cell_type": "code",
   "execution_count": null,
   "metadata": {},
   "outputs": [],
   "source": [
    "ax = sns.pointplot(x=\"class\", y=\"fare\", data=Titanic, capsize=.2)"
   ]
  },
  {
   "cell_type": "code",
   "execution_count": null,
   "metadata": {},
   "outputs": [],
   "source": [
    "\n",
    "sns.set(style=\"ticks\") \n",
    "#heading\n",
    "g = sns.FacetGrid(Titanic, row=\"pclass\", col=\"fare\")\n",
    "g.map(plt.hist, \"fare\", color=\"red\",  lw=0)\n",
    "plt.subplots_adjust(top=0.9)\n",
    "g.set_axis_labels('Fare in USD')\n",
    "plt.suptitle('Plot 2: Passenger Fare of Alive and Perished')\n",
    "sns.despine(trim=True)\n",
    "plt.show()\n"
   ]
  },
  {
   "cell_type": "markdown",
   "metadata": {},
   "source": [
    "# Tips based on Meal (lunch/dinner)\n",
    "included is whether the guest was a smoker or not"
   ]
  },
  {
   "cell_type": "code",
   "execution_count": null,
   "metadata": {},
   "outputs": [],
   "source": [
    "\n",
    "ax = sns.boxplot(x='alive',y='fare',hue='alive',data=Titanic)  \n",
    "plt.title('Plot 3: Fare by Alive/Perished')\n",
    "sns.despine(offset=10, trim=True)\n",
    "ax.set(xlabel='', ylabel='Fare')\n",
    "\n",
    "plt.show()"
   ]
  },
  {
   "cell_type": "code",
   "execution_count": null,
   "metadata": {},
   "outputs": [],
   "source": [
    "sns.set(style=\"darkgrid\")\n",
    "\n",
    "g = sns.factorplot(x=\"alive\", y=\"fare\", hue=\"who\", data=Titanic,\n",
    "                   size=6, kind=\"bar\", palette=\"pastel\", ci=95)\n",
    "g.despine(left=True)\n",
    "g.set_ylabels(\"Fare\")\n",
    "g.set_xlabels(\"\")\n",
    "plt.title('Barplot: Fare by Alive/Perished and Gender')\n",
    "plt.show()"
   ]
  },
  {
   "cell_type": "code",
   "execution_count": null,
   "metadata": {},
   "outputs": [],
   "source": [
    "# Setting the overall aesthetic.\n",
    "sns.set(style=\"white\")\n",
    "\n",
    "g = sns.lmplot(y='fare', \n",
    "               x='pclass',\n",
    "               hue='alive',\n",
    "               data=Titanic, # Data.\n",
    "               col='who',\n",
    "               fit_reg=True,\n",
    "               ci=False,\n",
    "               scatter_kws={'alpha':0.4})\n",
    "g.set_ylabels(\"Tips\")\n",
    "g.set_xlabels(\"Total Bill\")\n",
    "plt.suptitle('Scatterplot Regression: Meal Tips by Total Bill, split by gender and time')\n",
    "plt.subplots_adjust(top=0.9)\n",
    "plt.show()\n"
   ]
  },
  {
   "cell_type": "code",
   "execution_count": null,
   "metadata": {},
   "outputs": [],
   "source": [
    "\n",
    "# Setting the overall aesthetic.\n",
    "sns.set(style=\"whitegrid\")\n",
    "\n",
    "ax = sns.boxplot(x='alive',y='fare',hue='who',data=Titanic,palette='pastel')  \n",
    "\n",
    "plt.title('Plot 4: Meal Tips by Time and Gender')\n",
    "\n",
    "sns.despine(offset=10, trim=True)\n",
    "ax.set(xlabel='', ylabel='Fare in USD')\n",
    "\n",
    "plt.show()"
   ]
  },
  {
   "cell_type": "code",
   "execution_count": 61,
   "metadata": {},
   "outputs": [
    {
     "data": {
      "image/png": "[encoded data removed]",
      "text/plain": [
       "<Figure size 648x432 with 6 Axes>"
      ]
     },
     "metadata": {},
     "output_type": "display_data"
    }
   ],
   "source": [
    "\n",
    "sns.set(style=\"ticks\") \n",
    "#heading\n",
    "g = sns.FacetGrid(Titanic, row=\"alive\", col=\"who\")\n",
    "g.map(plt.hist, \"fare\", color=\"red\",  lw=0)\n",
    "plt.subplots_adjust(top=0.9)\n",
    "# Making a more informative axis name.\n",
    "g.set_axis_labels('Tip in USD')\n",
    "plt.suptitle('Ticket Fare Fare by Gender and Fare')\n",
    "# Removing excess lines around the plot.\n",
    "sns.despine(trim=True)\n",
    "plt.show()\n"
   ]
  },
  {
   "cell_type": "code",
   "execution_count": 62,
   "metadata": {
    "scrolled": false
   },
   "outputs": [
    {
     "data": {
      "image/png": "[encoded data removed]",
      "text/plain": [
       "<Figure size 500.5x432 with 1 Axes>"
      ]
     },
     "metadata": {},
     "output_type": "display_data"
    }
   ],
   "source": [
    "# Setting the overall aesthetic.\n",
    "sns.set(style=\"whitegrid\")\n",
    "\n",
    "g = sns.factorplot(x=\"alive\", y=\"fare\", hue=\"who\", data=Titanic,\n",
    "                   size=6, kind=\"point\", palette=\"pastel\",ci=95,dodge=True,join=False)\n",
    "g.despine(left=True)\n",
    "g.set_ylabels(\"Fare\")\n",
    "g.set_xlabels(\"\")\n",
    "plt.title('Pointplot: Ticket Fare by Alive and Gender')\n",
    "plt.show()"
   ]
  },
  {
   "cell_type": "code",
   "execution_count": null,
   "metadata": {},
   "outputs": [],
   "source": []
  },
  {
   "cell_type": "code",
   "execution_count": null,
   "metadata": {},
   "outputs": [],
   "source": []
  },
  {
   "cell_type": "code",
   "execution_count": null,
   "metadata": {},
   "outputs": [],
   "source": []
  },
  {
   "cell_type": "code",
   "execution_count": null,
   "metadata": {},
   "outputs": [],
   "source": []
  },
  {
   "cell_type": "code",
   "execution_count": null,
   "metadata": {},
   "outputs": [],
   "source": []
  },
  {
   "cell_type": "code",
   "execution_count": null,
   "metadata": {},
   "outputs": [],
   "source": []
  },
  {
   "cell_type": "code",
   "execution_count": null,
   "metadata": {},
   "outputs": [],
   "source": []
  },
  {
   "cell_type": "code",
   "execution_count": null,
   "metadata": {},
   "outputs": [],
   "source": []
  },
  {
   "cell_type": "code",
   "execution_count": null,
   "metadata": {},
   "outputs": [],
   "source": []
  },
  {
   "cell_type": "code",
   "execution_count": null,
   "metadata": {},
   "outputs": [],
   "source": []
  },
  {
   "cell_type": "code",
   "execution_count": null,
   "metadata": {},
   "outputs": [],
   "source": []
  },
  {
   "cell_type": "code",
   "execution_count": null,
   "metadata": {},
   "outputs": [],
   "source": []
  },
  {
   "cell_type": "code",
   "execution_count": null,
   "metadata": {},
   "outputs": [],
   "source": []
  },
  {
   "cell_type": "code",
   "execution_count": null,
   "metadata": {},
   "outputs": [],
   "source": []
  },
  {
   "cell_type": "code",
   "execution_count": null,
   "metadata": {},
   "outputs": [],
   "source": []
  },
  {
   "cell_type": "code",
   "execution_count": null,
   "metadata": {},
   "outputs": [],
   "source": []
  },
  {
   "cell_type": "code",
   "execution_count": null,
   "metadata": {},
   "outputs": [],
   "source": []
  },
  {
   "cell_type": "code",
   "execution_count": null,
   "metadata": {},
   "outputs": [],
   "source": []
  }
 ],
 "metadata": {
  "kernelspec": {
   "display_name": "Python 3",
   "language": "python",
   "name": "python3"
  },
  "language_info": {
   "codemirror_mode": {
    "name": "ipython",
    "version": 3
   },
   "file_extension": ".py",
   "mimetype": "text/x-python",
   "name": "python",
   "nbconvert_exporter": "python",
   "pygments_lexer": "ipython3",
   "version": "3.6.5"
  }
 },
 "nbformat": 4,
 "nbformat_minor": 2
}
